{
 "cells": [
  {
   "cell_type": "markdown",
   "id": "47d1bb29-84a7-40f1-9038-762576bd5020",
   "metadata": {},
   "source": [
    "In Python, data structures are used to store and organize data efficiently. Here is a comprehensive list of built-in data structures in Python:"
   ]
  },
  {
   "cell_type": "markdown",
   "id": "57cfd70c-3119-4286-952e-140761c6e00a",
   "metadata": {},
   "source": [
    ".................Primitive Data Structures..................\n",
    "Integer: Represents whole numbers (e.g., 5, -3).\n",
    "Float:   Represents floating-point numbers or decimals (e.g., 3.14, -0.001).\n",
    "String:  Represents a sequence of characters (e.g., \"hello\", 'world').\n",
    "Boolean: Represents truth values (True and False).\n"
   ]
  },
  {
   "cell_type": "markdown",
   "id": "32d45b97-2cbb-4b50-9a01-85a904f992b6",
   "metadata": {},
   "source": [
    "...............Non-Primitive (or Compound) Data Structures............\n",
    "\n",
    "List:->\n",
    "Definition: An ordered, mutable collection of items.\n",
    "Syntax: []\n",
    "Example: my_list = [1, 2, 3, \"apple\", [4, 5]]\n",
    "\n",
    "\n",
    "Tuple:->\n",
    "Definition: An ordered, immutable collection of items.\n",
    "Syntax: ()\n",
    "Example: my_tuple = (1, 2, 3, \"apple\")\n",
    "\n",
    "\n",
    "Set:->\n",
    "Definition: An unordered collection of unique items.\n",
    "Syntax: {} or set()\n",
    "Example: my_set = {1, 2, 3, \"apple\"}\n",
    "\n",
    "\n",
    "Dictionary:->\n",
    "Definition: An unordered collection of key-value pairs.\n",
    "Syntax: {}\n",
    "Example: my_dict = {\"name\": \"Alice\", \"age\": 25}"
   ]
  },
  {
   "cell_type": "markdown",
   "id": "a4fbe8e0-ea1d-4a78-bc63-0c9a695c6788",
   "metadata": {},
   "source": [
    "........................................Mutable...................................\n",
    "Definition: Mutable objects are those whose state or contents can be changed after they are created. This means \n",
    "you can alter, add, or remove elements from these objects without creating a new object.\n",
    "\n",
    "\n",
    "-----Examples--- of Mutable Data Structures in Python:\n",
    "\n",
    "\n",
    "--List: An ordered collection that allows modification by adding, removing, or changing elements.\n",
    "--Dictionary: A collection of key-value pairs where you can modify, add, or remove keys and their associated values.\n",
    "--Set: An unordered collection of unique elements that allows adding and removing elements.\n",
    "--Byte Array: A mutable sequence of bytes, which can be altered by changing individual bytes.\n",
    "--Deque (Double-Ended Queue): A double-ended queue allowing additions and removals from both ends efficiently.\n",
    "\n"
   ]
  },
  {
   "cell_type": "markdown",
   "id": "ee04d13d-6dde-41bc-b531-5d7df0f7c7f5",
   "metadata": {},
   "source": [
    ".......................................Inmutable...................................\n",
    "Definition: Immutable objects are those whose state or contents cannot be changed after they are created. If you need to alter the contents, you must create a new object with the desired changes.\n",
    "\n",
    "\n",
    "-----Examples---- of Immutable Data Structures in Python:\n",
    "\n",
    "--Integer: Whole numbers that cannot be altered once created. Any arithmetic operation results in a new integer.\n",
    "--Float: Decimal numbers that remain unchanged once created. Any operation produces a new float.\n",
    "--String: A sequence of characters that cannot be changed. Any modification creates a new string.\n",
    "--Tuple: An ordered collection of elements that cannot be modified once created.\n",
    "--Frozen Set: An immutable version of a set where the elements cannot be changed after creation.\n",
    "--Bytes: An immutable sequence of bytes, similar to a string but for binary data. Any change results in a new bytes object.\n"
   ]
  },
  {
   "cell_type": "code",
   "execution_count": null,
   "id": "e67ef35e-d16c-4698-847e-30497ca3ca5c",
   "metadata": {},
   "outputs": [],
   "source": []
  },
  {
   "cell_type": "code",
   "execution_count": null,
   "id": "e93c4040-c1c0-4177-af0a-52a82cc06ea9",
   "metadata": {},
   "outputs": [],
   "source": []
  },
  {
   "cell_type": "code",
   "execution_count": null,
   "id": "a43704e9-7463-4700-99a8-a1cf46519ce5",
   "metadata": {},
   "outputs": [],
   "source": []
  }
 ],
 "metadata": {
  "kernelspec": {
   "display_name": "Python 3 (ipykernel)",
   "language": "python",
   "name": "python3"
  },
  "language_info": {
   "codemirror_mode": {
    "name": "ipython",
    "version": 3
   },
   "file_extension": ".py",
   "mimetype": "text/x-python",
   "name": "python",
   "nbconvert_exporter": "python",
   "pygments_lexer": "ipython3",
   "version": "3.10.8"
  }
 },
 "nbformat": 4,
 "nbformat_minor": 5
}

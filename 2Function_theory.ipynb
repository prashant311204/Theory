{
 "cells": [
  {
   "cell_type": "markdown",
   "id": "d4df9965-6c76-4ce5-99fc-a93fb951a9c8",
   "metadata": {},
   "source": [
    "# Place Holder"
   ]
  },
  {
   "cell_type": "markdown",
   "id": "00950aaa-7946-4ba7-bd2a-bffafeeb298b",
   "metadata": {},
   "source": [
    "A placeholder in Python is a symbol or set of symbols within a string that acts as a marker or variable where a specific value will be inserted. Placeholders are used in string formatting to dynamically insert values into a string without hardcoding them, making the code more flexible and readable."
   ]
  },
  {
   "cell_type": "markdown",
   "id": "963e5581-c4bb-42e3-b309-53be60dae94d",
   "metadata": {},
   "source": [
    "..........Key Points about Placeholders........\n",
    "Purpose: Placeholders are used to format strings dynamically by substituting values at runtime. This allows for the creation of strings that can change based on variable values or expressions.\n"
   ]
  },
  {
   "cell_type": "markdown",
   "id": "a33072c2-eba6-406e-9e5d-526960d102d0",
   "metadata": {},
   "source": [
    "....................Types of Placeholders:...........\n",
    "\n",
    "% Operator Placeholders:       Symbols like %s for strings and %d for integers.\n",
    "str.format() Placeholders:     Curly braces {} which can optionally include numbers or names to specify the order or name of the variable.\n",
    "f-String Placeholders:         Curly braces {} prefixed by f in the string, allowing inline expressions and variable interpolation.\n",
    "Template Strings Placeholders:  Dollar signs $ followed by variable names, used in the string.Template class."
   ]
  },
  {
   "cell_type": "markdown",
   "id": "2bc8e4a9-ab07-473d-9363-8a0fd319e5b3",
   "metadata": {},
   "source": [
    "In Python, placeholders are commonly used to format strings. There are several ways to include placeholders in strings, each with its own syntax and use cases. Here are the main methods:"
   ]
  },
  {
   "cell_type": "code",
   "execution_count": 1,
   "id": "a56bbeb6-7c6b-434d-bc59-305aef92fbd4",
   "metadata": {},
   "outputs": [
    {
     "name": "stdin",
     "output_type": "stream",
     "text": [
      "enter name prashant\n",
      "enter age 18\n",
      "enter course datascience\n"
     ]
    },
    {
     "name": "stdout",
     "output_type": "stream",
     "text": [
      "Hello everyone my name is prashant , my age is 18 and i am learning datascience course from pwskills\n"
     ]
    }
   ],
   "source": [
    "### % Operator\n",
    "\n",
    "name=input(\"enter name\")\n",
    "age=int(input(\"enter age\"))\n",
    "course=input(\"enter course\")\n",
    "formated_string= \"Hello everyone my name is %s , my age is %d and i am learning %s course from pwskills\" %(name,age,course)\n",
    "print(formated_string)"
   ]
  },
  {
   "cell_type": "code",
   "execution_count": 2,
   "id": "a83d462a-0a24-4dce-a4b1-5b859e0da188",
   "metadata": {},
   "outputs": [
    {
     "name": "stdin",
     "output_type": "stream",
     "text": [
      "enter name prashant\n",
      "enter age 18\n",
      "enter course datascience\n"
     ]
    },
    {
     "name": "stdout",
     "output_type": "stream",
     "text": [
      "Hello everyone my name is prashant , my age is 18 and i am learning datascience course from pwskills\n"
     ]
    }
   ],
   "source": [
    "### Using str.format\n",
    "\n",
    "\n",
    "name=input(\"enter name\")\n",
    "age=int(input(\"enter age\"))\n",
    "course=input(\"enter course\")\n",
    "formated= \"Hello everyone my name is {} , my age is {} and i am learning {} course from pwskills\" .format(name,age,course)\n",
    "print(formated)"
   ]
  },
  {
   "cell_type": "code",
   "execution_count": 3,
   "id": "00d6e4f2-a9f1-4324-b6d9-f47f0e2e248d",
   "metadata": {},
   "outputs": [
    {
     "name": "stdin",
     "output_type": "stream",
     "text": [
      "enter name prashant\n",
      "enter age 18\n",
      "enter course datascience\n"
     ]
    },
    {
     "name": "stdout",
     "output_type": "stream",
     "text": [
      "Hello everyone my name is prashant , my age is 18 and i am learning datascience course from pwskills\n"
     ]
    }
   ],
   "source": [
    "### Using F string\n",
    "\n",
    "\n",
    "name=input(\"enter name\")\n",
    "age=int(input(\"enter age\"))\n",
    "course=input(\"enter course\")\n",
    "formated= f\"Hello everyone my name is {name} , my age is {age} and i am learning {course} course from pwskills\"\n",
    "print(formated)"
   ]
  },
  {
   "cell_type": "markdown",
   "id": "87d6fd33-6038-4bb2-96a1-4ebc90fced52",
   "metadata": {},
   "source": [
    "\n",
    "\n",
    "....................Iterable....................\n",
    "\n",
    "An iterable is an object capable of returning its members one at a time. Examples include lists, tuples, strings, and dictionaries. An object is considered iterable if it implements the __iter__() method or the __getitem__() method. Essentially, any object that can be looped over in a for loop is an iterable. iterable obj can be made  iterator obj by using iter()\n",
    "\n",
    "...................Iterator.....................\n",
    "\n",
    "An iterator is an object representing a stream of data that returns elements one at a time. It must implement two methods: __iter__() and __next__(). The __iter__() method returns the iterator object itself, and the __next__() method returns the next element from the stream. When there are no more elements to return, __next__() raises the StopIteration exception. Iterators are used to iterate over iterables.\n",
    "\n",
    "....................Generator......................\n",
    "\n",
    "A generator is a special type of iterator created using a function that contains one or more yield statements. When called, a generator function returns a generator object. Generators allow you to iterate over a sequence of values lazily, generating each value only when it is needed. This makes generators memory-efficient because they do not store all the values in memory at once. Generator expressions provide a concise way to create generators, similar to list comprehensions but using parentheses.\n",
    "\n",
    ".......>>>>>>>>>>>>>>>>........Summary.....................>>>>>>>>>>>>>>>>>>\n",
    "\n",
    "Iterable: An object that can return an iterator (e.g., lists, tuples, strings).\n",
    "Iterator: An object with methods __iter__() and __next__() that returns elements one at a time.\n",
    "Generator: A type of iterator created with a function using yield, allowing lazy evaluation of a sequence of values.\n"
   ]
  },
  {
   "cell_type": "markdown",
   "id": "63e666eb-33aa-4151-a455-5e71c9c5abb7",
   "metadata": {},
   "source": [
    "# Lambda Function\n",
    "\n",
    "\n",
    "A lambda function in Python is a small anonymous function defined using the lambda keyword. It can take any number of arguments but has only one expression. "
   ]
  },
  {
   "cell_type": "markdown",
   "id": "c50f5b09-0224-4ea5-a223-922fdbd19d72",
   "metadata": {},
   "source": [
    "# Map , Reduce and Filter\n",
    "\n",
    "\n",
    ".........MAP..........\n",
    "MAP is a built-in Python function that applies a given function to all items in an input iterable (such as a list) and returns a map object (an iterator) of the results. The function you provide to map is applied to each element in the iterable.\n",
    "\n",
    "Syntax: map(function, iterable, ...)\n",
    "\n",
    "\n",
    ".........REDUCE..........\n",
    "reduce is a function in the functools module that applies a provided function cumulatively to the items of an input iterable, from left to right, so as to reduce the iterable to a single value. The function you provide takes two arguments and is applied cumulatively to the elements of the iterable.\n",
    "\n",
    "Syntax: functools.reduce(function, iterable,[initializer])\n",
    "\n",
    "\n",
    ".........FILTER............\n",
    "filter is a built-in Python function that constructs an iterator from elements of an iterable for which a function returns true. The function you provide to filter is applied to each element in the iterable, and only the elements for which the function returns true are included in the output.\n"
   ]
  },
  {
   "cell_type": "markdown",
   "id": "3234260f-f6da-4fae-a050-a2e631ec9817",
   "metadata": {},
   "source": []
  }
 ],
 "metadata": {
  "kernelspec": {
   "display_name": "Python 3 (ipykernel)",
   "language": "python",
   "name": "python3"
  },
  "language_info": {
   "codemirror_mode": {
    "name": "ipython",
    "version": 3
   },
   "file_extension": ".py",
   "mimetype": "text/x-python",
   "name": "python",
   "nbconvert_exporter": "python",
   "pygments_lexer": "ipython3",
   "version": "3.10.8"
  }
 },
 "nbformat": 4,
 "nbformat_minor": 5
}

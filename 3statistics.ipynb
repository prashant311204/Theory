{
 "cells": [
  {
   "cell_type": "markdown",
   "id": "a1f1bbde-bdb3-4857-9238-cc6f1eb66ac3",
   "metadata": {},
   "source": [
    "# .....................WHAT IS STATISTICS  AND USE IN REAL LIFE....................................."
   ]
  },
  {
   "cell_type": "markdown",
   "id": "4ee6fb84-c774-42b6-83e8-4b87d034b502",
   "metadata": {},
   "source": [
    "Statistics is the mathematical science of collecting, analyzing and presenting data. It helps to make sense of complex information by summarizing trends and patterns.\n",
    "\n",
    " In real life, statistics are used in various fields such AS\n",
    " ---- healthcare to track disease outbreaks\n",
    " ---- business for market analysis and decision-making\n",
    " ---- election campaign\n",
    " ----- whether forcast"
   ]
  },
  {
   "cell_type": "markdown",
   "id": "7ad262cd-2a66-458d-8ffb-929332c2c9a3",
   "metadata": {},
   "source": [
    "# .............Types of statistics................................."
   ]
  },
  {
   "cell_type": "markdown",
   "id": "9a120634-91b0-425d-b52e-d3232c3a4173",
   "metadata": {},
   "source": [
    "1....Descriptive Statistics:-->> This involves summarizing and organizing data to describe its main features.    Techniques include:\n",
    "\n",
    "# Measures of Central Tendency: (Mean, median, and mode )\n",
    "# Measures of dispersion: ( Range, variance, and standard deviation,percentage and percentile )\n",
    "# Measures of symmetricity : (skewness,kurtosis)\n",
    "\n",
    "\n",
    "1....Inferential Statistics: This involves using data from a sample to make inferences or predictions about a larger population. Techniques include:\n",
    "\n",
    "# Hypothesis Testing:     Determining if there is enough evidence to support a specific claim.\n",
    "# Confidence Intervals:   Estimating the range within which a population parameter is likely to fall.\n",
    "# Regression Analysis:    Examining relationships between variables to make predictions."
   ]
  },
  {
   "cell_type": "markdown",
   "id": "1d218ebf-8e57-4e26-80c6-b221ced82134",
   "metadata": {},
   "source": [
    "# ................SAMPLING......................................"
   ]
  },
  {
   "cell_type": "markdown",
   "id": "f1c67be4-0bbf-4271-887e-f757a1945fb3",
   "metadata": {},
   "source": [
    "# Sampling is the process of selecting a subset of individuals from a larger population to estimate characteristics of the whole population.   Here are common types of sampling methods:\n",
    "\n",
    "* Simple Random Sampling: Every member of the population(N) has an equal chance of being selected. \n",
    "\n",
    "* Systematic Sampling: Selecting every n-th member from a list after a random starting point.\n",
    "\n",
    "* Stratified Sampling: The population is divided into distinct subgroups (strata) based on a characteristic (e.g., age, income), and random                        samples are taken from each stratum.\n",
    "\n",
    "* Cluster Sampling: The population is divided into clusters (often geographically), and a random sample of clusters is selected. All members                      of the chosen clusters are then surveyed.\n"
   ]
  },
  {
   "cell_type": "markdown",
   "id": "a61b74cc-27e4-447c-9cdb-6826bc23f78f",
   "metadata": {},
   "source": [
    "# ..................Types of DATA....................................."
   ]
  },
  {
   "cell_type": "markdown",
   "id": "a871d6d1-d9d1-4aac-89de-0df0adebdea9",
   "metadata": {},
   "source": [
    "1.Qualitative Data (Categorical Data):\n",
    "\n",
    "* Nominal Data: Categories without a specific order (e.g., colors, gender, types of animals).\n",
    "* Ordinal Data: Categories with a meaningful order but no consistent difference between them (e.g., rankings, satisfaction levels).\n",
    "\n",
    "\n",
    "2.Quantitative Data (Numerical Data):\n",
    "\n",
    "* Discrete Data: Countable data with distinct values, often integers (e.g., number of students, number of cars).\n",
    "* Continuous Data: Data that can take any value within a range and can be measured with precision (e.g., height, weight, temperature)."
   ]
  },
  {
   "cell_type": "markdown",
   "id": "bca33473-d67a-4409-a414-4b99b61cdb21",
   "metadata": {},
   "source": [
    "# ........................Scales of Measurement..................................\n"
   ]
  },
  {
   "cell_type": "markdown",
   "id": "247b1b17-2079-43f7-8ce4-63cbdfea1057",
   "metadata": {},
   "source": [
    "Scales of measurement describe how variables are categorized, measured, and interpreted. They are fundamental in determining which statistical techniques are appropriate. Here are the four primary scales of measurement:\n",
    "\n",
    "1. Nominal Scale:\n",
    "\n",
    "* Description: Categorizes data without a specific order or hierarchy.\n",
    "* Examples: Gender, colors, types of fruit.\n",
    "* Analysis: Frequencies, mode.\n",
    "\n",
    "\n",
    "2. Ordinal Scale:\n",
    "\n",
    "* Description: Categorizes data with a meaningful order but unequal intervals between categories.\n",
    "* Examples: Rankings (1st, 2nd, 3rd), satisfaction levels (poor, fair, good, excellent).\n",
    "* Analysis: Median, mode, non-parametric tests.\n",
    "\n",
    "\n",
    "3. Interval Scale:\n",
    "\n",
    "* Description: Measures data with equal intervals between values, but no true zero point.\n",
    "* Examples: Temperature in Celsius or Fahrenheit, IQ scores.\n",
    "* Analysis: Mean, standard deviation, parametric tests.\n",
    "\n",
    "\n",
    "4. Ratio Scale:\n",
    "\n",
    "* Description: Measures data with equal intervals and a meaningful zero point, allowing for the comparison of absolute magnitudes.\n",
    "* Examples: Height, weight, age, income.\n",
    "* Analysis: Mean, standard deviation, ratios, parametric tests."
   ]
  },
  {
   "cell_type": "markdown",
   "id": "29707d0f-fbcb-4608-a563-dbcc9da66e8d",
   "metadata": {},
   "source": [
    "# ...................Measure of central tendency..............................\n"
   ]
  },
  {
   "cell_type": "markdown",
   "id": "45d11cbb-756f-4c3e-87a9-e81baa3551cb",
   "metadata": {},
   "source": [
    "* They summarize a set of values with a single representative value.\n",
    "\n",
    "1. Mean:\n",
    "* Description: The arithmetic average of a dataset, calculated by summing all values and dividing by the number of values.\n",
    "* Use: Provides a measure of the overall average. Best for interval and ratio scales, but can be affected by outliers.\n",
    "\n",
    "2. Median:\n",
    "* Description: The middle value when the dataset is ordered from smallest to largest. If there is an even number of values, it is the                      average of the two middle values\n",
    "* Use: Useful for ordinal, interval, and ratio scales, especially when the data is skewed or contains outliers, as it is less affected by           extreme values.\n",
    "* Mode :\n",
    "* Description: The value that appears most frequently in a dataset.\n",
    "* Use: Can be used with nominal, ordinal, interval, and ratio scales. There can be more than one mode or none at all if no value repeats."
   ]
  },
  {
   "cell_type": "markdown",
   "id": "6581e254-823d-4cfe-8ffc-150a1590d5e5",
   "metadata": {},
   "source": [
    "# ...............................Measure of Dispersion....................................."
   ]
  },
  {
   "cell_type": "markdown",
   "id": "716b5449-308e-4751-be7b-b5b5df73a4bb",
   "metadata": {},
   "source": [
    "* Measures of dispersion describe the spread or variability of data points within a dataset.\n",
    "\n",
    "1. Range\n",
    "* Description: The difference between the maximum and minimum values in the dataset.\n",
    "* Use: Simple to calculate but sensitive to outliers and does not consider the distribution of all data points.\n",
    "\n",
    "2. Variance \n",
    "* Description: The average of the squared differences between each data point and the mean.\n",
    "* Use: Provides a measure of the data's spread but is in squared units of the original data.\n",
    "\n",
    "3. Standard Deviation:\n",
    "* Description: The square root of the variance, giving a measure of dispersion in the same units as the data.\n",
    "* Use: Commonly used to understand the average distance of each data point from the mean. \n",
    "\n",
    "4. Interquartile Range (IQR):\n",
    "* Description: The range within which the middle 50% of values lie, calculated as the difference between the third quartile (Q3) and the                    first quartile (Q1).\n",
    "* Use: Useful for understanding the spread of the central portion of the data, less affected by outliers.\n",
    "* Formula: IQR=Q3-Q1"
   ]
  },
  {
   "cell_type": "markdown",
   "id": "54983404-61c8-4e53-b6b9-a5f5f27ce43b",
   "metadata": {},
   "source": [
    "# ........................................Measure of symmeticity................................\n"
   ]
  },
  {
   "cell_type": "markdown",
   "id": "627e5550-fa74-4033-a18a-849abe3e887e",
   "metadata": {},
   "source": [
    "* Measures of symmetry in a dataset describe how symmetrical or skewed the data distribution is. These measures help assess whether the data   is evenly distributed around the central value or if it is skewed to one side.\n",
    "\n",
    "1. Skewness:---- Measures of data symmetry\n",
    "\n",
    "* Description: Quantifies the degree of asymmetry of a distribution around its mean.\n",
    "* Positive Skew (Right Skew): Data tail extends more to the right. Mean > Median > mode.\n",
    "* Negative Skew (Left Skew): Data tail extends more to the left. Mean < Median < mode\n",
    "* Zero Skew: Symmetrical distribution. Mean ≈ Median = mode.\n",
    "\n",
    "2. Kurtosis:\n",
    "\n",
    "* Description: Measures the \"tailedness\" or the extent to which data values are concentrated in the tails of the distribution.\n",
    "Interpretation:\n",
    "* Leptokurtic: Higher peaks and heavier tails (Kurtosis > 3). Indicates more outliers.\n",
    "* Platykurtic: Flatter peaks and lighter tails (Kurtosis < 3). Indicates fewer outliers.\n",
    "* Mesokurtic: Normal distribution shape (Kurtosis = 3).\n",
    "\n",
    "\n",
    "Both skewness and kurtosis provide insight into the shape and distribution of data, helping to understand deviations from normality and assess the appropriateness of statistical methods that assume normal distribution."
   ]
  },
  {
   "cell_type": "markdown",
   "id": "adfd9f1e-6e13-408c-b98d-d79c399eb26b",
   "metadata": {},
   "source": [
    "....................Coveraince................................................"
   ]
  },
  {
   "cell_type": "markdown",
   "id": "e930755c-4b16-465f-bff9-fa4a82cf8584",
   "metadata": {},
   "source": [
    "* Covariance is a statistical measure that indicates the direction of the relationship between two variables. \n",
    "* If the covariance is positive, the variables tend to increase or decrease together; if it's negative, one variable tends to increase while   the other decreases.\n",
    "* A covariance close to zero suggests little to no relationship"
   ]
  },
  {
   "cell_type": "markdown",
   "id": "a76e5e15-a11e-45a9-ba91-f581601a0aad",
   "metadata": {},
   "source": [
    ".......................correlation........................................................."
   ]
  },
  {
   "cell_type": "markdown",
   "id": "d346ffc8-b7e8-4b07-b56a-4c0ed2ec3147",
   "metadata": {},
   "source": [
    "* Correlation is a statistical measure that expresses the extent to which two variables are linearly related.\n",
    "* It ranges from -1 to 1. \n",
    "* A correlation of 1 means a perfect positive relationship, where both variables move in the same direction.\n",
    "* A correlation of -1 indicates a perfect negative relationship, where one variable increases as the other decreases.\n",
    "* A correlation of 0 means no linear relationship exists."
   ]
  },
  {
   "cell_type": "markdown",
   "id": "e7a93db2-801b-4165-bfda-a89f037f9f3d",
   "metadata": {},
   "source": [
    ".........................Pearson correlation........................................."
   ]
  },
  {
   "cell_type": "markdown",
   "id": "79019067-b091-4b46-a3be-c141b8ee8683",
   "metadata": {},
   "source": [
    "* The Pearson correlation coefficient, often denoted as r, is a measure of the linear relationship between two variables. It quantifies how   well the relationship between two variables can be described using a straight line.\n",
    "* It ranges from -1 to 1.\n",
    "* r = 1: Perfect positive linear correlation (as one variable increases, the other also increases perfectly).\n",
    "* r = -1: Perfect negative linear correlation (as one variable increases, the other decreases perfectly).\n",
    "* r = 0: No linear correlation (no linear relationship between the variables).\n",
    "\n",
    "* Calculation: \n",
    "Pearson correlation is calculated by dividing the covariance of the two variables by the product of their standard deviations. \n"
   ]
  },
  {
   "cell_type": "markdown",
   "id": "74c2fd50-04ef-4244-a6e8-a5bcbf586a94",
   "metadata": {},
   "source": [
    "................................Spearman..........................................................."
   ]
  },
  {
   "cell_type": "markdown",
   "id": "52ee31ad-65ee-459e-9f60-12e34949b4c3",
   "metadata": {},
   "source": [
    "* The Spearman correlation coefficient, often denoted as ρ (rho), measures the strength and direction of a monotonic relationship between     two ranked variables. Unlike Pearson correlation, which assesses linear relationships, Spearman correlation can capture both linear and     non-linear monotonic relationships.\n",
    "* Value Range: It ranges from -1 to 1.\n",
    "* ρ = 1: Perfect positive monotonic correlation (as one variable increases, the other also increases in a consistent manner).\n",
    "* ρ = -1: Perfect negative monotonic correlation (as one variable increases, the other consistently decreases).\n",
    "* ρ = 0: No monotonic relationship.\n",
    "\n",
    "* Calculation:\n",
    "Spearman correlation is calculated by converting the data into ranks and then applying the Pearson correlation formula to these ranks. This method makes it less sensitive to outliers and does not assume a linear relationship between the variables.\n",
    "\n",
    "\n"
   ]
  },
  {
   "cell_type": "markdown",
   "id": "55dec2d5-5a70-4795-ba70-b43613bd0ff3",
   "metadata": {},
   "source": [
    "............................Diffrence between covariance and correlation........................"
   ]
  },
  {
   "cell_type": "markdown",
   "id": "3b51c50d-1519-4cae-a48b-9fcfd20292ab",
   "metadata": {},
   "source": [
    "* Covariance and correlation both measure the relationship between two variables, but they differ in scale, interpretation, and application.\n",
    "\n",
    "Definition:\n",
    "\n",
    "* Covariance: Measures how two variables change together. It indicates whether an increase in one variable generally leads to an increase or   decrease in another variable.\n",
    "\n",
    "* Correlation: Measures the strength and direction of the linear relationship between two variables. It’s a standardized form of covariance.\n",
    "\n",
    "Scale:\n",
    "\n",
    "* Covariance: Has units that are the product of the units of the two variables, so its value depends on the scale of the data. This can make   it difficult to interpret or compare across different datasets.\n",
    "* Correlation: Is unitless and always ranges between -1 and 1, making it easier to compare across different datasets.\n",
    "\n",
    "Range:\n",
    "\n",
    "\n",
    "* Covariance: Can range from negative infinity to positive infinity. The sign of the covariance indicates the direction of the relationship   (positive or negative).\n",
    "* Correlation: Ranges between -1 and 1. A value of 1 indicates a perfect positive linear relationship, -1 indicates a perfect negative         linear relationship, and 0 indicates no linear relationship.\n",
    "\n",
    "\n",
    "\n",
    "\n",
    "\n",
    "\n",
    "\n",
    "\n",
    "\n"
   ]
  },
  {
   "cell_type": "markdown",
   "id": "1aa078eb-8a91-4117-b252-062b0f303e53",
   "metadata": {},
   "source": []
  },
  {
   "cell_type": "markdown",
   "id": "30f621c1-4cb5-4e51-9f37-b700c4b1a3a1",
   "metadata": {},
   "source": []
  },
  {
   "cell_type": "code",
   "execution_count": null,
   "id": "7e3ab403-ccf2-4eeb-97c1-18fedf39bc65",
   "metadata": {},
   "outputs": [],
   "source": []
  },
  {
   "cell_type": "code",
   "execution_count": null,
   "id": "52c3ff25-09d4-4d2e-82b3-ee15711be16c",
   "metadata": {},
   "outputs": [],
   "source": []
  },
  {
   "cell_type": "code",
   "execution_count": null,
   "id": "fb559c6d-a06a-42d0-bdf8-e3e7254b2670",
   "metadata": {},
   "outputs": [],
   "source": []
  },
  {
   "cell_type": "code",
   "execution_count": null,
   "id": "1f025946-2c27-4086-9518-d193346cd7ac",
   "metadata": {},
   "outputs": [],
   "source": []
  },
  {
   "cell_type": "code",
   "execution_count": null,
   "id": "40edd1b0-1257-401e-94da-9f165a4e2282",
   "metadata": {},
   "outputs": [],
   "source": []
  },
  {
   "cell_type": "code",
   "execution_count": null,
   "id": "96edc1d2-ab48-4755-91a6-3d32e4eeb225",
   "metadata": {},
   "outputs": [],
   "source": []
  },
  {
   "cell_type": "code",
   "execution_count": null,
   "id": "cb9ea96f-3276-4467-bcf2-dad6d7908f04",
   "metadata": {},
   "outputs": [],
   "source": []
  },
  {
   "cell_type": "code",
   "execution_count": null,
   "id": "d6b53b0d-12b3-4566-a731-66cff8a24464",
   "metadata": {},
   "outputs": [],
   "source": []
  },
  {
   "cell_type": "code",
   "execution_count": null,
   "id": "7a6b98ec-abe2-405a-86db-44419cc75555",
   "metadata": {},
   "outputs": [],
   "source": []
  },
  {
   "cell_type": "code",
   "execution_count": null,
   "id": "83503d82-e5d1-4af6-98f2-2ee43575f202",
   "metadata": {},
   "outputs": [],
   "source": []
  },
  {
   "cell_type": "code",
   "execution_count": null,
   "id": "953ca197-9369-4e20-9184-f4445d6052ac",
   "metadata": {},
   "outputs": [],
   "source": []
  },
  {
   "cell_type": "code",
   "execution_count": null,
   "id": "6cd4a3fb-8382-4f7b-a8ef-f718e07453f8",
   "metadata": {},
   "outputs": [],
   "source": []
  },
  {
   "cell_type": "code",
   "execution_count": null,
   "id": "5d8ea560-3156-4386-aa19-740feef73a27",
   "metadata": {},
   "outputs": [],
   "source": []
  },
  {
   "cell_type": "code",
   "execution_count": null,
   "id": "37d772b3-087c-4bd5-a661-09b4c7637ca5",
   "metadata": {},
   "outputs": [],
   "source": []
  },
  {
   "cell_type": "code",
   "execution_count": null,
   "id": "5f2e8d2e-36e2-4b0a-854e-3b3542b806bb",
   "metadata": {},
   "outputs": [],
   "source": []
  },
  {
   "cell_type": "code",
   "execution_count": null,
   "id": "667f7cbb-d78e-4207-aa7f-8df0789dd87e",
   "metadata": {},
   "outputs": [],
   "source": []
  },
  {
   "cell_type": "code",
   "execution_count": null,
   "id": "d6f08930-c551-4a02-86fe-d27f6b992ab1",
   "metadata": {},
   "outputs": [],
   "source": [
    "\n",
    "\n",
    "\n"
   ]
  }
 ],
 "metadata": {
  "kernelspec": {
   "display_name": "Python 3 (ipykernel)",
   "language": "python",
   "name": "python3"
  },
  "language_info": {
   "codemirror_mode": {
    "name": "ipython",
    "version": 3
   },
   "file_extension": ".py",
   "mimetype": "text/x-python",
   "name": "python",
   "nbconvert_exporter": "python",
   "pygments_lexer": "ipython3",
   "version": "3.10.8"
  }
 },
 "nbformat": 4,
 "nbformat_minor": 5
}
